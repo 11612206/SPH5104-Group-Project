{
 "cells": [
  {
   "cell_type": "markdown",
   "metadata": {},
   "source": [
    "## Catalog\n",
    "<a href=#p1>1. Import Packages and Import Data</a>\n",
    "\n",
    "<a href=#p2>2. Data Preprocessing</a>\n",
    "\n",
    "<a href=#p3>3. IPTW </a>"
   ]
  },
  {
   "cell_type": "markdown",
   "metadata": {},
   "source": [
    "<a name='p1' /></a>\n",
    "## 1. Import Packages and Import Data\n",
    "\n",
    "This part mainly contains: 1. connections between Google Colab and Google Drive, 2. import packages, 3. import data"
   ]
  },
  {
   "cell_type": "code",
   "execution_count": null,
   "metadata": {
    "colab": {
     "base_uri": "https://localhost:8080/"
    },
    "id": "ZrNRwXKgae1V",
    "outputId": "cec7285a-0bd6-49a8-a449-cf365aba57c4"
   },
   "outputs": [
    {
     "name": "stdout",
     "output_type": "stream",
     "text": [
      "E: Package 'python-software-properties' has no installation candidate\n",
      "Selecting previously unselected package google-drive-ocamlfuse.\n",
      "(Reading database ... 160983 files and directories currently installed.)\n",
      "Preparing to unpack .../google-drive-ocamlfuse_0.7.26-0ubuntu1~ubuntu18.04.1_amd64.deb ...\n",
      "Unpacking google-drive-ocamlfuse (0.7.26-0ubuntu1~ubuntu18.04.1) ...\n",
      "Setting up google-drive-ocamlfuse (0.7.26-0ubuntu1~ubuntu18.04.1) ...\n",
      "Processing triggers for man-db (2.8.3-2ubuntu0.1) ...\n"
     ]
    }
   ],
   "source": [
    "# This block is about building connections between Google Colab and personal google drive.\n",
    "# Taken and amended from this stackoverflow answer: https://stackoverflow.com/questions/47744131/colaboratory-can-i-access-to-my-google-drive-folder-and-file\n",
    "# I give full credits to the author.\n",
    "!apt-get install -y -qq software-properties-common python-software-properties module-init-tools\n",
    "!add-apt-repository -y ppa:alessandro-strada/ppa 2>&1 > /dev/null\n",
    "!apt-get update -qq 2>&1 > /dev/null\n",
    "!apt-get -y install -qq google-drive-ocamlfuse fuse\n",
    "from google.colab import auth\n",
    "auth.authenticate_user()\n",
    "from oauth2client.client import GoogleCredentials\n",
    "creds = GoogleCredentials.get_application_default()\n",
    "import getpass\n",
    "!google-drive-ocamlfuse -headless -id={creds.client_id} -secret={creds.client_secret} < /dev/null 2>&1 | grep URL\n",
    "vcode = getpass.getpass()\n",
    "!echo {vcode} | google-drive-ocamlfuse -headless -id={creds.client_id} -secret={creds.client_secret}\n",
    "\n",
    "!mkdir -p drive\n",
    "!google-drive-ocamlfuse drive"
   ]
  },
  {
   "cell_type": "code",
   "execution_count": null,
   "metadata": {
    "id": "hddzmourdLVq"
   },
   "outputs": [],
   "source": [
    "import os\n",
    "os.chdir(\"drive/Colab Notebooks/SPH\") # in my personal google drive, I built a separate folder called \"SPH\" to store all related documents"
   ]
  },
  {
   "cell_type": "code",
   "execution_count": null,
   "metadata": {
    "id": "OP0DdqaJahb8"
   },
   "outputs": [],
   "source": [
    "import numpy as np\n",
    "import pandas as pd\n",
    "import pandasql as ps\n",
    "import warnings\n",
    "warnings.filterwarnings('ignore')\n",
    "import seaborn as sns\n",
    "import matplotlib.pyplot as plt\n",
    "from joblib import Parallel, delayed # for parallel processing"
   ]
  },
  {
   "cell_type": "code",
   "execution_count": null,
   "metadata": {
    "id": "2bA5XX88DKDi"
   },
   "outputs": [],
   "source": [
    "sph_df=pd.read_excel('SPH.xlsx')"
   ]
  },
  {
   "cell_type": "markdown",
   "metadata": {},
   "source": [
    "<a name='p2' /></a>\n",
    "## 2. Data Preprocessing\n",
    "This part includes drop missing values, drop duplicate records, binning and rename columns"
   ]
  },
  {
   "cell_type": "code",
   "execution_count": null,
   "metadata": {
    "colab": {
     "base_uri": "https://localhost:8080/"
    },
    "id": "d8Nd7fz1o7Dc",
    "outputId": "0d15f2d7-7c53-44a7-ecde-6b25e0f3a54e"
   },
   "outputs": [
    {
     "data": {
      "text/plain": [
       "Index(['PatNo', 'icustay_id', 'los', 'discharge_location', 'ethnicity',\n",
       "       'White', 'Black', 'AmerIndian_AlaskaN', 'Asian', 'NHawaiian_OtherPI',\n",
       "       'Hispanic_Latino', 'Others', 'MultiRaceEthnicity',\n",
       "       'hospital_expire_flag', 'age', 'gender', 'gender_Male', 'sofa',\n",
       "       'apsiii', 'oasis', 'aniongap_min', 'bicarbonate_min', 'lactate_min',\n",
       "       'min_gcs', 'elixhauser_vanwalraven', 'vaso_treatment',\n",
       "       'propensityscore', 'propensityblock', 'comsup', 'inhospmortality_NNM',\n",
       "       '_merge_inhospmortality_NNM', 'los_NNM', '_merge_los_NNM'],\n",
       "      dtype='object')"
      ]
     },
     "execution_count": 5,
     "metadata": {
      "tags": []
     },
     "output_type": "execute_result"
    }
   ],
   "source": [
    "sph_df.columns"
   ]
  },
  {
   "cell_type": "code",
   "execution_count": null,
   "metadata": {
    "id": "H8GmVd_jEXyG"
   },
   "outputs": [],
   "source": [
    "sph_df.drop(columns=['propensityscore', 'propensityblock', 'comsup', 'inhospmortality_NNM',\n",
    "       '_merge_inhospmortality_NNM', 'los_NNM', '_merge_los_NNM'],inplace=True)"
   ]
  },
  {
   "cell_type": "code",
   "execution_count": null,
   "metadata": {
    "id": "RfKAcqGQD52i"
   },
   "outputs": [],
   "source": [
    "sph_df_clean=sph_df.dropna() # drop nans"
   ]
  },
  {
   "cell_type": "code",
   "execution_count": null,
   "metadata": {
    "colab": {
     "base_uri": "https://localhost:8080/"
    },
    "id": "ixD4jRW4auGL",
    "outputId": "5b58d7c0-1203-4f97-cd8a-94f461f4e2b1"
   },
   "outputs": [
    {
     "data": {
      "text/plain": [
       "3229"
      ]
     },
     "execution_count": 9,
     "metadata": {
      "tags": []
     },
     "output_type": "execute_result"
    }
   ],
   "source": [
    "len(sph_df_clean)"
   ]
  },
  {
   "cell_type": "code",
   "execution_count": null,
   "metadata": {
    "colab": {
     "base_uri": "https://localhost:8080/"
    },
    "id": "nRJ0CGQDm93G",
    "outputId": "5b3edf9f-c5f5-4ada-b077-6fd4b80775b3"
   },
   "outputs": [
    {
     "data": {
      "text/plain": [
       "2637"
      ]
     },
     "execution_count": 33,
     "metadata": {
      "tags": []
     },
     "output_type": "execute_result"
    }
   ],
   "source": [
    "len(sph_df_clean['icustay_id'].unique())"
   ]
  },
  {
   "cell_type": "code",
   "execution_count": null,
   "metadata": {
    "id": "afce7WldMDHR"
   },
   "outputs": [],
   "source": [
    "q = \"select d1.* from sph_df_clean d1 where d1.PatNo = (select max(d2.PatNo) from sph_df_clean d2 where d2.icustay_id = d1.icustay_id);\"\n",
    "sph_df_clean=ps.sqldf(q, locals()) # drop duplicate records"
   ]
  },
  {
   "cell_type": "code",
   "execution_count": null,
   "metadata": {
    "colab": {
     "base_uri": "https://localhost:8080/"
    },
    "id": "mMoBVbzrMblq",
    "outputId": "c1914159-b79c-4ba6-f534-76ce2eb9ff9a"
   },
   "outputs": [
    {
     "data": {
      "text/plain": [
       "2637"
      ]
     },
     "execution_count": 14,
     "metadata": {
      "tags": []
     },
     "output_type": "execute_result"
    }
   ],
   "source": [
    "len(sph_df_clean)"
   ]
  },
  {
   "cell_type": "code",
   "execution_count": null,
   "metadata": {
    "colab": {
     "base_uri": "https://localhost:8080/"
    },
    "id": "rwSVaQQrEI-v",
    "outputId": "479c5ebb-54ac-484d-d97f-014c112a694b"
   },
   "outputs": [
    {
     "data": {
      "text/plain": [
       "Index(['PatNo', 'icustay_id', 'los', 'discharge_location', 'ethnicity',\n",
       "       'White', 'Black', 'AmerIndian_AlaskaN', 'Asian', 'NHawaiian_OtherPI',\n",
       "       'Hispanic_Latino', 'Others', 'MultiRaceEthnicity',\n",
       "       'hospital_expire_flag', 'age', 'gender', 'gender_Male', 'sofa',\n",
       "       'apsiii', 'oasis', 'aniongap_min', 'bicarbonate_min', 'lactate_min',\n",
       "       'min_gcs', 'elixhauser_vanwalraven', 'vaso_treatment'],\n",
       "      dtype='object')"
      ]
     },
     "execution_count": 11,
     "metadata": {
      "tags": []
     },
     "output_type": "execute_result"
    }
   ],
   "source": [
    "sph_df_clean.columns"
   ]
  },
  {
   "cell_type": "code",
   "execution_count": null,
   "metadata": {
    "id": "MpcdmHb4GwRx"
   },
   "outputs": [],
   "source": [
    "sph_df_clean['disc_loc_clas']=np.nan # create a new column to bin different discharge locations to different classes"
   ]
  },
  {
   "cell_type": "code",
   "execution_count": null,
   "metadata": {
    "colab": {
     "base_uri": "https://localhost:8080/"
    },
    "id": "yI66QZQ0IxPq",
    "outputId": "55ad8895-e2fd-4fa8-c046-798e3598dc90"
   },
   "outputs": [
    {
     "data": {
      "text/plain": [
       "array(['HOME HEALTH CARE', 'SNF', 'LONG TERM CARE HOSPITAL',\n",
       "       'REHAB/DISTINCT PART HOSP', 'DEAD/EXPIRED', 'SHORT TERM HOSPITAL',\n",
       "       'HOSPICE-HOME', 'HOME', 'HOSPICE-MEDICAL FACILITY',\n",
       "       'DISC-TRAN CANCER/CHLDRN H', 'ICF', 'SNF-MEDICAID ONLY CERTIF',\n",
       "       'OTHER FACILITY', 'DISCH-TRAN TO PSYCH HOSP',\n",
       "       'LEFT AGAINST MEDICAL ADVI'], dtype=object)"
      ]
     },
     "execution_count": 26,
     "metadata": {
      "tags": []
     },
     "output_type": "execute_result"
    }
   ],
   "source": [
    "sph_df_clean['discharge_location'].unique()"
   ]
  },
  {
   "cell_type": "code",
   "execution_count": null,
   "metadata": {
    "id": "WoyYgGfWGom0"
   },
   "outputs": [],
   "source": [
    "# 0: palliation/death, 1: fit for discharge, 2: specialised care required\n",
    "disc_mapping={'DEAD/EXPIRED':0,'HOSPICE-HOME':0,'HOSPICE-MEDICAL FACILITY':0,'HOME HEALTH CARE':1,'HOME':1,'SNF':2, 'LONG TERM CARE HOSPITAL':2,\n",
    "       'REHAB/DISTINCT PART HOSP':2, 'SHORT TERM HOSPITAL':2,\n",
    "       'DISC-TRAN CANCER/CHLDRN H':2, 'ICF':2, 'SNF-MEDICAID ONLY CERTIF':2,\n",
    "       'OTHER FACILITY':2, 'DISCH-TRAN TO PSYCH HOSP':2,\n",
    "       'LEFT AGAINST MEDICAL ADVI':2}"
   ]
  },
  {
   "cell_type": "code",
   "execution_count": null,
   "metadata": {
    "id": "R2RDFGNBLRMR"
   },
   "outputs": [],
   "source": [
    "for i in sph_df_clean['discharge_location'].unique():\n",
    "  sph_df_clean['disc_loc_clas'].where(sph_df_clean['discharge_location']!=i,disc_mapping[i],inplace=True) # create feature across all the dataset"
   ]
  },
  {
   "cell_type": "code",
   "execution_count": null,
   "metadata": {
    "colab": {
     "base_uri": "https://localhost:8080/"
    },
    "id": "18fgkfhpLriD",
    "outputId": "f121fb22-6275-4cd7-88e2-f665b6a9bbfb"
   },
   "outputs": [
    {
     "data": {
      "text/plain": [
       "0       1.0\n",
       "1       2.0\n",
       "2       2.0\n",
       "3       1.0\n",
       "4       2.0\n",
       "       ... \n",
       "2632    2.0\n",
       "2633    2.0\n",
       "2634    2.0\n",
       "2635    2.0\n",
       "2636    2.0\n",
       "Name: disc_loc_clas, Length: 2637, dtype: float64"
      ]
     },
     "execution_count": 19,
     "metadata": {
      "tags": []
     },
     "output_type": "execute_result"
    }
   ],
   "source": [
    "sph_df_clean['disc_loc_clas'] # check the results"
   ]
  },
  {
   "cell_type": "code",
   "execution_count": null,
   "metadata": {
    "colab": {
     "base_uri": "https://localhost:8080/",
     "height": 298
    },
    "id": "TOC7gijZMEbW",
    "outputId": "b4b06616-2561-40dd-a9bf-45d4dd66d079"
   },
   "outputs": [
    {
     "data": {
      "text/plain": [
       "<matplotlib.axes._subplots.AxesSubplot at 0x7fad04cd8990>"
      ]
     },
     "execution_count": 22,
     "metadata": {
      "tags": []
     },
     "output_type": "execute_result"
    },
    {
     "data": {
      "image/png": "[encoded data removed]",
      "text/plain": [
       "<Figure size 432x288 with 1 Axes>"
      ]
     },
     "metadata": {
      "needs_background": "light",
      "tags": []
     },
     "output_type": "display_data"
    }
   ],
   "source": [
    "sns.distplot(sph_df_clean['disc_loc_clas'])"
   ]
  },
  {
   "cell_type": "code",
   "execution_count": null,
   "metadata": {
    "colab": {
     "base_uri": "https://localhost:8080/",
     "height": 387
    },
    "id": "f2GiQRzWOpLm",
    "outputId": "3cb13c17-b9eb-4e73-ee80-b456559c8db4"
   },
   "outputs": [
    {
     "data": {
      "text/plain": [
       "<seaborn.axisgrid.FacetGrid at 0x7fad027120d0>"
      ]
     },
     "execution_count": 25,
     "metadata": {
      "tags": []
     },
     "output_type": "execute_result"
    },
    {
     "data": {
      "image/png": "[encoded data removed]",
      "text/plain": [
       "<Figure size 360x360 with 1 Axes>"
      ]
     },
     "metadata": {
      "needs_background": "light",
      "tags": []
     },
     "output_type": "display_data"
    }
   ],
   "source": [
    "sns.displot(data=sph_df_clean,x='vaso_treatment') # check vaso treatment distribution"
   ]
  },
  {
   "cell_type": "code",
   "execution_count": null,
   "metadata": {
    "id": "zmWdz2A1hb7x"
   },
   "outputs": [],
   "source": [
    "sph_df_clean.drop(columns=['PatNo', 'icustay_id','ethnicity','gender','discharge_location'],inplace=True,errors='ignore')"
   ]
  },
  {
   "cell_type": "code",
   "execution_count": null,
   "metadata": {
    "id": "dn4Y4i43gwA4"
   },
   "outputs": [],
   "source": [
    "sph_df_clean.rename(columns={'White':'wh', 'Black':'bl', 'AmerIndian_AlaskaN':'inal', 'Asian':'as',\n",
    "       'NHawaiian_OtherPI':'hw', 'Hispanic_Latino':'lat', 'Others':'oth', 'MultiRaceEthnicity':'mul','in_al':'inal'},inplace=True,errors='ignore')"
   ]
  },
  {
   "cell_type": "code",
   "execution_count": null,
   "metadata": {
    "id": "Xkfx8vt7ldeA"
   },
   "outputs": [],
   "source": [
    "sph_df_clean.rename(columns={\n",
    "       'hospital_expire_flag':'expire','gender_Male':'gender',\n",
    "       'aniongap_min':'aniongap', 'bicarbonate_min':'bicarbonate', 'lactate_min':'lactate', 'min_gcs':'gcs',\n",
    "       'elixhauser_vanwalraven':'comor', 'vaso_treatment':'vaso', 'disc_loc_clas':'class'},inplace=True,errors='ignore')"
   ]
  },
  {
   "cell_type": "code",
   "execution_count": null,
   "metadata": {
    "colab": {
     "base_uri": "https://localhost:8080/"
    },
    "id": "BvpgAlTki_io",
    "outputId": "81e939d9-d41a-4af7-d9a9-f03c270c3ce7"
   },
   "outputs": [
    {
     "data": {
      "text/plain": [
       "Index(['los', 'wh', 'bl', 'inal', 'as', 'hw', 'lat', 'oth', 'mul', 'expire',\n",
       "       'age', 'gender', 'sofa', 'apsiii', 'oasis', 'aniongap', 'bicarbonate',\n",
       "       'lactate', 'gcs', 'comor', 'vaso', 'class'],\n",
       "      dtype='object')"
      ]
     },
     "execution_count": 19,
     "metadata": {
      "tags": []
     },
     "output_type": "execute_result"
    }
   ],
   "source": [
    "sph_df_clean.columns"
   ]
  },
  {
   "cell_type": "code",
   "execution_count": null,
   "metadata": {
    "id": "j4j2mF2zrqxQ"
   },
   "outputs": [],
   "source": [
    "df0=sph_df_clean.copy()\n",
    "df0['class'].replace({2:1},inplace=True) # currently we binarize three classes into two classes: death or non-death\n",
    "df0=df0.astype({'class': 'int64'})"
   ]
  },
  {
   "cell_type": "code",
   "execution_count": null,
   "metadata": {
    "colab": {
     "base_uri": "https://localhost:8080/"
    },
    "id": "rwQTokjLsiuz",
    "outputId": "f74cf213-6358-45b8-a8b9-d6d8c5d83ca4"
   },
   "outputs": [
    {
     "data": {
      "text/plain": [
       "array([1, 0])"
      ]
     },
     "execution_count": 43,
     "metadata": {
      "tags": []
     },
     "output_type": "execute_result"
    }
   ],
   "source": [
    "df0['class'].unique()"
   ]
  },
  {
   "cell_type": "markdown",
   "metadata": {},
   "source": [
    "<a name='p3' /></a>\n",
    "## 3. IPTW"
   ]
  },
  {
   "cell_type": "code",
   "execution_count": null,
   "metadata": {
    "colab": {
     "base_uri": "https://localhost:8080/",
     "height": 200
    },
    "id": "yhenGf23ph7T",
    "outputId": "299f4b9d-4020-45bf-9f97-8d5582204f91"
   },
   "outputs": [
    {
     "data": {
      "text/html": [
       "<div>\n",
       "<style scoped>\n",
       "    .dataframe tbody tr th:only-of-type {\n",
       "        vertical-align: middle;\n",
       "    }\n",
       "\n",
       "    .dataframe tbody tr th {\n",
       "        vertical-align: top;\n",
       "    }\n",
       "\n",
       "    .dataframe thead th {\n",
       "        text-align: right;\n",
       "    }\n",
       "</style>\n",
       "<table border=\"1\" class=\"dataframe\">\n",
       "  <thead>\n",
       "    <tr style=\"text-align: right;\">\n",
       "      <th></th>\n",
       "      <th>vaso</th>\n",
       "      <th>class</th>\n",
       "      <th>propensity_score</th>\n",
       "    </tr>\n",
       "  </thead>\n",
       "  <tbody>\n",
       "    <tr>\n",
       "      <th>0</th>\n",
       "      <td>0</td>\n",
       "      <td>1</td>\n",
       "      <td>0.059848</td>\n",
       "    </tr>\n",
       "    <tr>\n",
       "      <th>1</th>\n",
       "      <td>0</td>\n",
       "      <td>1</td>\n",
       "      <td>0.033135</td>\n",
       "    </tr>\n",
       "    <tr>\n",
       "      <th>2</th>\n",
       "      <td>0</td>\n",
       "      <td>1</td>\n",
       "      <td>0.040629</td>\n",
       "    </tr>\n",
       "    <tr>\n",
       "      <th>3</th>\n",
       "      <td>0</td>\n",
       "      <td>1</td>\n",
       "      <td>0.004837</td>\n",
       "    </tr>\n",
       "    <tr>\n",
       "      <th>4</th>\n",
       "      <td>0</td>\n",
       "      <td>1</td>\n",
       "      <td>0.132385</td>\n",
       "    </tr>\n",
       "  </tbody>\n",
       "</table>\n",
       "</div>"
      ],
      "text/plain": [
       "   vaso  class  propensity_score\n",
       "0     0      1          0.059848\n",
       "1     0      1          0.033135\n",
       "2     0      1          0.040629\n",
       "3     0      1          0.004837\n",
       "4     0      1          0.132385"
      ]
     },
     "execution_count": 18,
     "metadata": {
      "tags": []
     },
     "output_type": "execute_result"
    }
   ],
   "source": [
    "# use logistic regression to estimate propensity score\n",
    "from sklearn.linear_model import LogisticRegression\n",
    "\n",
    "T = 'vaso'\n",
    "Y = 'class'\n",
    "X = df0.drop(columns=[T, Y])\n",
    "\n",
    "ps_model = LogisticRegression().fit(X,df0[T])\n",
    "\n",
    "data_ps = df0.assign(propensity_score=ps_model.predict_proba(X)[:, 1])\n",
    "\n",
    "data_ps[[\"vaso\", \"class\", \"propensity_score\"]].head()"
   ]
  },
  {
   "cell_type": "code",
   "execution_count": null,
   "metadata": {
    "colab": {
     "base_uri": "https://localhost:8080/"
    },
    "id": "LU86eUaDu8kp",
    "outputId": "be200ab0-cb3f-4151-f628-b43ce695b682"
   },
   "outputs": [
    {
     "name": "stdout",
     "output_type": "stream",
     "text": [
      "Original Sample Size 2637\n",
      "Treated Population Sample Size 2095.4540975740915\n",
      "Untreated Population Sample Size 2671.0497857433165\n"
     ]
    }
   ],
   "source": [
    "weight_t = 1/data_ps.query(\"vaso==1\")[\"propensity_score\"]\n",
    "weight_nt = 1/(1-data_ps.query(\"vaso==0\")[\"propensity_score\"])\n",
    "print(\"Original Sample Size\", df0.shape[0])\n",
    "print(\"Treated Population Sample Size\", sum(weight_t))\n",
    "print(\"Untreated Population Sample Size\", sum(weight_nt))"
   ]
  },
  {
   "cell_type": "code",
   "execution_count": null,
   "metadata": {
    "id": "jommh7SWR0Aa"
   },
   "outputs": [],
   "source": [
    "dataframe=pd.DataFrame( {'x': [0, 1], 'col2': [2671, 2095]})"
   ]
  },
  {
   "cell_type": "code",
   "execution_count": null,
   "metadata": {
    "colab": {
     "base_uri": "https://localhost:8080/"
    },
    "id": "Mm16XaX_wYrl",
    "outputId": "35dcccec-2c64-4e08-f4d0-1101cb4376d8"
   },
   "outputs": [
    {
     "name": "stdout",
     "output_type": "stream",
     "text": [
      "Y1: 0.5088531501766161\n",
      "Y0: 0.7483057648118976\n",
      "ATE -0.2394526146352819\n"
     ]
    }
   ],
   "source": [
    "# calculate ATE, ATU, and ATT\n",
    "weight = ((data_ps[\"vaso\"]-data_ps[\"propensity_score\"]) /\n",
    "          (data_ps[\"propensity_score\"]*(1-data_ps[\"propensity_score\"])))\n",
    "\n",
    "y1 = sum(data_ps.query(\"vaso==1\")[\"class\"]*weight_t) / len(df0)\n",
    "y0 = sum(data_ps.query(\"vaso==0\")[\"class\"]*weight_nt) / len(df0)\n",
    "\n",
    "ate = np.mean(weight * data_ps[\"class\"])\n",
    "\n",
    "print(\"Y1:\", y1)\n",
    "print(\"Y0:\", y0)\n",
    "print(\"ATE\", np.mean(weight * data_ps[\"class\"]))"
   ]
  },
  {
   "cell_type": "markdown",
   "metadata": {},
   "source": [
    "Find evidence for confounding factors"
   ]
  },
  {
   "cell_type": "code",
   "execution_count": null,
   "metadata": {
    "colab": {
     "base_uri": "https://localhost:8080/",
     "height": 295
    },
    "id": "zfPJb1TEJ3Vr",
    "outputId": "17870425-750f-4870-ff13-d31b31f2f543"
   },
   "outputs": [
    {
     "data": {
      "image/png": "[encoded data removed]",
      "text/plain": [
       "<Figure size 432x288 with 1 Axes>"
      ]
     },
     "metadata": {
      "needs_background": "light",
      "tags": []
     },
     "output_type": "display_data"
    }
   ],
   "source": [
    "sns.boxplot(x=\"oasis\", y=\"propensity_score\", data=data_ps)\n",
    "plt.title(\"Confounding Evidence\");"
   ]
  },
  {
   "cell_type": "code",
   "execution_count": null,
   "metadata": {
    "colab": {
     "base_uri": "https://localhost:8080/",
     "height": 295
    },
    "id": "pXiiia3fa5x5",
    "outputId": "216dfdda-bd05-45a0-95ff-785ca74274a9"
   },
   "outputs": [
    {
     "data": {
      "image/png": "[encoded data removed]",
      "text/plain": [
       "<Figure size 432x288 with 1 Axes>"
      ]
     },
     "metadata": {
      "needs_background": "light",
      "tags": []
     },
     "output_type": "display_data"
    }
   ],
   "source": [
    "sns.boxplot(x=\"sofa\", y=\"propensity_score\", data=data_ps)\n",
    "plt.title(\"Confounding Evidence\");"
   ]
  },
  {
   "cell_type": "markdown",
   "metadata": {},
   "source": [
    "Now I use bootstrapping method to get the standard error as well as the significace level for ATT, ATU and ATT."
   ]
  },
  {
   "cell_type": "code",
   "execution_count": null,
   "metadata": {
    "id": "SLLGId_9BUEW"
   },
   "outputs": [],
   "source": [
    "# define function that computes the IPTW estimator\n",
    "def run_ps(df, X, T, y):\n",
    "    # estimate the propensity score\n",
    "    ps = LogisticRegression(C=1e6).fit(X, df[T]).predict_proba(X)[:, 1]\n",
    "    data_ps = df.assign(propensity_score=ps)\n",
    "    weight_t = 1/data_ps.query(\"vaso==1\")[\"propensity_score\"]\n",
    "    y1 = sum(data_ps.query(\"vaso==1\")[\"class\"]*weight_t) / len(df)\n",
    "    return y1 # compute the ATT\n",
    "\n",
    "np.random.seed(88)\n",
    "# run 1000 bootstrap samples\n",
    "bootstrap_sample = 1000\n",
    "atts = Parallel(n_jobs=4)(delayed(run_ps)(df0.sample(frac=1, replace=True), X, T, Y) for _ in range(bootstrap_sample))\n",
    "atts = np.array(atts)"
   ]
  },
  {
   "cell_type": "code",
   "execution_count": null,
   "metadata": {
    "colab": {
     "base_uri": "https://localhost:8080/"
    },
    "id": "0NT8U4xQE1F6",
    "outputId": "dded0557-0a71-41ec-cd83-b6eb34d74a7d"
   },
   "outputs": [
    {
     "name": "stdout",
     "output_type": "stream",
     "text": [
      "ATT: 0.4741845256288551\n",
      "95% C.I.: (0.3977293831222999, 0.5546916040390297)\n",
      "2.0126107963713804\n"
     ]
    }
   ],
   "source": [
    "print(f\"ATT: {atts.mean()}\")\n",
    "print(f\"95% C.I.: {(np.percentile(atts, 2.5), np.percentile(atts, 97.5))}\")\n",
    "print((np.percentile(atts, 97.5)-atts.mean())/atts.std()) #显著的"
   ]
  },
  {
   "cell_type": "code",
   "execution_count": null,
   "metadata": {
    "colab": {
     "base_uri": "https://localhost:8080/"
    },
    "id": "mCStMLJJFQct",
    "outputId": "24ea2bfa-ee98-445c-d79f-d457cd8cfa96"
   },
   "outputs": [
    {
     "name": "stdout",
     "output_type": "stream",
     "text": [
      "ATT: 0.7671771900135389\n",
      "95% C.I.: (0.7500086349988837, 0.7837742444907942)\n",
      "1.9348769228711433\n"
     ]
    }
   ],
   "source": [
    "from joblib import Parallel, delayed # for parallel processing\n",
    "\n",
    "# define function that computes the IPTW estimator\n",
    "def run_ps(df, X, T, y):\n",
    "    # estimate the propensity score\n",
    "    ps = LogisticRegression(C=1e6).fit(X, df[T]).predict_proba(X)[:, 1]\n",
    "    data_ps = df.assign(propensity_score=ps)\n",
    "    weight_nt = 1/(1-data_ps.query(\"vaso==0\")[\"propensity_score\"])\n",
    "    y0 = sum(data_ps.query(\"vaso==0\")[\"class\"]*weight_nt) / len(df)\n",
    "    return y0 # compute the ATT\n",
    "\n",
    "np.random.seed(88)\n",
    "# run 1000 bootstrap samples\n",
    "bootstrap_sample = 1000\n",
    "atus = Parallel(n_jobs=4)(delayed(run_ps)(df0.sample(frac=1, replace=True), X, T, Y) for _ in range(bootstrap_sample))\n",
    "atus = np.array(atus)\n",
    "print(f\"ATT: {atus.mean()}\")\n",
    "print(f\"95% C.I.: {(np.percentile(atus, 2.5), np.percentile(atus, 97.5))}\")\n",
    "print((np.percentile(atus, 97.5)-atus.mean())/atus.std()) #显著的"
   ]
  },
  {
   "cell_type": "code",
   "execution_count": null,
   "metadata": {
    "id": "-LRhFydYaIQg"
   },
   "outputs": [],
   "source": [
    "from joblib import Parallel, delayed # for parallel processing\n",
    "\n",
    "# define function that computes the IPTW estimator\n",
    "def run_ps(df, X, T, y):\n",
    "    # estimate the propensity score\n",
    "    ps = LogisticRegression(C=1e6).fit(X, df[T]).predict_proba(X)[:, 1]\n",
    "    \n",
    "    weight = (df[T]-ps) / (ps*(1-ps)) # define the weights\n",
    "    return np.mean(weight * df[y]) # compute the ATE\n",
    "\n",
    "np.random.seed(88)\n",
    "# run 1000 bootstrap samples\n",
    "bootstrap_sample = 1000\n",
    "ates = Parallel(n_jobs=4)(delayed(run_ps)(df0.sample(frac=1, replace=True), X, T, Y) for _ in range(bootstrap_sample))\n",
    "ates = np.array(ates)"
   ]
  },
  {
   "cell_type": "code",
   "execution_count": null,
   "metadata": {
    "colab": {
     "base_uri": "https://localhost:8080/"
    },
    "id": "xJnnCQKHqsxh",
    "outputId": "1a74865d-e5f9-4f81-ec5d-29977748cd67"
   },
   "outputs": [
    {
     "name": "stdout",
     "output_type": "stream",
     "text": [
      "ATE: -0.29299266438468363\n",
      "95% C.I.: (-0.37009019687567296, -0.20882465803150044)\n"
     ]
    }
   ],
   "source": [
    "print(f\"ATE: {ates.mean()}\")\n",
    "print(f\"95% C.I.: {(np.percentile(ates, 2.5), np.percentile(ates, 97.5))}\")"
   ]
  },
  {
   "cell_type": "code",
   "execution_count": null,
   "metadata": {
    "colab": {
     "base_uri": "https://localhost:8080/"
    },
    "id": "myfvB5Abq24A",
    "outputId": "abb7799a-1117-4937-8820-5ccd00cce76b"
   },
   "outputs": [
    {
     "data": {
      "text/plain": [
       "2.0566513202696615"
      ]
     },
     "execution_count": 25,
     "metadata": {
      "tags": []
     },
     "output_type": "execute_result"
    }
   ],
   "source": [
    "(np.percentile(ates, 97.5)-ates.mean())/ates.std() #显著的"
   ]
  },
  {
   "cell_type": "markdown",
   "metadata": {},
   "source": [
    "Check ATT distribution after IPTW"
   ]
  },
  {
   "cell_type": "code",
   "execution_count": null,
   "metadata": {
    "colab": {
     "base_uri": "https://localhost:8080/",
     "height": 281
    },
    "id": "H6rZnTsmtZZJ",
    "outputId": "c6ca5ea2-b543-4b50-ce7e-ad5f4d512e79"
   },
   "outputs": [
    {
     "data": {
      "image/png": "[encoded data removed]",
      "text/plain": [
       "<Figure size 432x288 with 1 Axes>"
      ]
     },
     "metadata": {
      "needs_background": "light",
      "tags": []
     },
     "output_type": "display_data"
    }
   ],
   "source": [
    "sns.distplot(ates, kde=False)\n",
    "plt.vlines(np.percentile(ates, 2.5), 0, 30, linestyles=\"dotted\")\n",
    "plt.vlines(np.percentile(ates, 97.5), 0, 30, linestyles=\"dotted\", label=\"95% CI\")\n",
    "plt.title(\"ATE Bootstrap Distribution\")\n",
    "plt.legend();"
   ]
  }
 ],
 "metadata": {
  "colab": {
   "collapsed_sections": [],
   "name": "Copy of MLI.ipynb",
   "provenance": []
  },
  "kernelspec": {
   "display_name": "Python 3",
   "language": "python",
   "name": "python3"
  },
  "language_info": {
   "codemirror_mode": {
    "name": "ipython",
    "version": 3
   },
   "file_extension": ".py",
   "mimetype": "text/x-python",
   "name": "python",
   "nbconvert_exporter": "python",
   "pygments_lexer": "ipython3",
   "version": "3.8.5"
  }
 },
 "nbformat": 4,
 "nbformat_minor": 1
}
